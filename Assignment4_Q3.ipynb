{
 "cells": [
  {
   "cell_type": "code",
   "execution_count": 1,
   "id": "103d40b8",
   "metadata": {},
   "outputs": [
    {
     "name": "stdout",
     "output_type": "stream",
     "text": [
      "4 5 2 9\n",
      "[16, 25, 4, 81]\n"
     ]
    }
   ],
   "source": [
    "'''Write a Python program to square the elements of a list using map() function.\n",
    "Sample List: [4, 5, 2, 9]\n",
    "Square the elements of the list:\n",
    "[16, 25, 4, 81]'''\n",
    "li=list(map(int,input().split()))\n",
    "def square(num):\n",
    "    return num**2\n",
    "print(list(map(square,li)))"
   ]
  },
  {
   "cell_type": "code",
   "execution_count": null,
   "id": "449b7200",
   "metadata": {},
   "outputs": [],
   "source": []
  }
 ],
 "metadata": {
  "kernelspec": {
   "display_name": "Python 3 (ipykernel)",
   "language": "python",
   "name": "python3"
  },
  "language_info": {
   "codemirror_mode": {
    "name": "ipython",
    "version": 3
   },
   "file_extension": ".py",
   "mimetype": "text/x-python",
   "name": "python",
   "nbconvert_exporter": "python",
   "pygments_lexer": "ipython3",
   "version": "3.10.9"
  }
 },
 "nbformat": 4,
 "nbformat_minor": 5
}
